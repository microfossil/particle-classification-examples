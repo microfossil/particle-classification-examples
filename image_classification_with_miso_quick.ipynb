{
  "cells": [
    {
      "cell_type": "markdown",
      "metadata": {
        "id": "1Ycmylt-ISHE"
      },
      "source": [
        "# Welcome\n",
        "\n",
        "This notebook is a stream lined version of the original for those who are familiar with the settings\n",
        "\n",
        "## Install Library"
      ]
    },
    {
      "cell_type": "code",
      "execution_count": null,
      "metadata": {
        "colab": {
          "base_uri": "https://localhost:8080/"
        },
        "id": "RC4iePqExWwO",
        "outputId": "f54f3a0c-c2ac-4ee3-b182-c31820ab784b"
      },
      "outputs": [
        {
          "output_type": "stream",
          "name": "stdout",
          "text": [
            "`%tensorflow_version` only switches the major version: 1.x or 2.x.\n",
            "You set: `1.15.2`. This will be interpreted as: `1.x`.\n",
            "\n",
            "\n",
            "TensorFlow 1.x selected.\n",
            "Thu Jan 13 11:31:33 2022       \n",
            "+-----------------------------------------------------------------------------+\n",
            "| NVIDIA-SMI 495.46       Driver Version: 460.32.03    CUDA Version: 11.2     |\n",
            "|-------------------------------+----------------------+----------------------+\n",
            "| GPU  Name        Persistence-M| Bus-Id        Disp.A | Volatile Uncorr. ECC |\n",
            "| Fan  Temp  Perf  Pwr:Usage/Cap|         Memory-Usage | GPU-Util  Compute M. |\n",
            "|                               |                      |               MIG M. |\n",
            "|===============================+======================+======================|\n",
            "|   0  Tesla K80           Off  | 00000000:00:04.0 Off |                    0 |\n",
            "| N/A   46C    P8    29W / 149W |      0MiB / 11441MiB |      0%      Default |\n",
            "|                               |                      |                  N/A |\n",
            "+-------------------------------+----------------------+----------------------+\n",
            "                                                                               \n",
            "+-----------------------------------------------------------------------------+\n",
            "| Processes:                                                                  |\n",
            "|  GPU   GI   CI        PID   Type   Process name                  GPU Memory |\n",
            "|        ID   ID                                                   Usage      |\n",
            "|=============================================================================|\n",
            "|  No running processes found                                                 |\n",
            "+-----------------------------------------------------------------------------+\n",
            "Collecting git+https://www.github.com/microfossil/particle-classification.git\n",
            "  Cloning https://www.github.com/microfossil/particle-classification.git to /tmp/pip-req-build-4mjevqi_\n",
            "  Running command git clone -q https://www.github.com/microfossil/particle-classification.git /tmp/pip-req-build-4mjevqi_\n",
            "Collecting image-classifiers>=1.0.0\n",
            "  Downloading image_classifiers-1.0.0-py3-none-any.whl (19 kB)\n",
            "Collecting h5py<3.0.0\n",
            "  Downloading h5py-2.10.0-cp37-cp37m-manylinux1_x86_64.whl (2.9 MB)\n",
            "\u001b[K     |████████████████████████████████| 2.9 MB 5.4 MB/s \n",
            "\u001b[?25hRequirement already satisfied: lxml in /usr/local/lib/python3.7/dist-packages (from miso2==2.4.4) (4.2.6)\n",
            "Requirement already satisfied: matplotlib in /usr/local/lib/python3.7/dist-packages (from miso2==2.4.4) (3.2.2)\n",
            "Requirement already satisfied: numpy in /usr/local/lib/python3.7/dist-packages (from miso2==2.4.4) (1.19.5)\n",
            "Requirement already satisfied: pandas in /usr/local/lib/python3.7/dist-packages (from miso2==2.4.4) (1.1.5)\n",
            "Requirement already satisfied: Pillow in /usr/local/lib/python3.7/dist-packages (from miso2==2.4.4) (7.1.2)\n",
            "Collecting imagecodecs\n",
            "  Downloading imagecodecs-2021.11.20-cp37-cp37m-manylinux_2_17_x86_64.manylinux2014_x86_64.whl (31.0 MB)\n",
            "\u001b[K     |████████████████████████████████| 31.0 MB 56.1 MB/s \n",
            "\u001b[?25hRequirement already satisfied: scikit-image in /usr/local/lib/python3.7/dist-packages (from miso2==2.4.4) (0.18.3)\n",
            "Requirement already satisfied: scikit-learn in /usr/local/lib/python3.7/dist-packages (from miso2==2.4.4) (1.0.2)\n",
            "Requirement already satisfied: scipy in /usr/local/lib/python3.7/dist-packages (from miso2==2.4.4) (1.4.1)\n",
            "Collecting segmentation-models\n",
            "  Downloading segmentation_models-1.0.1-py3-none-any.whl (33 kB)\n",
            "Requirement already satisfied: dill in /usr/local/lib/python3.7/dist-packages (from miso2==2.4.4) (0.3.4)\n",
            "Requirement already satisfied: flask in /usr/local/lib/python3.7/dist-packages (from miso2==2.4.4) (1.1.4)\n",
            "Requirement already satisfied: tqdm in /usr/local/lib/python3.7/dist-packages (from miso2==2.4.4) (4.62.3)\n",
            "Requirement already satisfied: openpyxl in /usr/local/lib/python3.7/dist-packages (from miso2==2.4.4) (2.5.9)\n",
            "Requirement already satisfied: imblearn in /usr/local/lib/python3.7/dist-packages (from miso2==2.4.4) (0.0)\n",
            "Requirement already satisfied: six in /usr/local/lib/python3.7/dist-packages (from h5py<3.0.0->miso2==2.4.4) (1.15.0)\n",
            "Requirement already satisfied: keras-applications<=1.0.8,>=1.0.7 in /tensorflow-1.15.2/python3.7 (from image-classifiers>=1.0.0->miso2==2.4.4) (1.0.8)\n",
            "Requirement already satisfied: itsdangerous<2.0,>=0.24 in /usr/local/lib/python3.7/dist-packages (from flask->miso2==2.4.4) (1.1.0)\n",
            "Requirement already satisfied: Jinja2<3.0,>=2.10.1 in /usr/local/lib/python3.7/dist-packages (from flask->miso2==2.4.4) (2.11.3)\n",
            "Requirement already satisfied: click<8.0,>=5.1 in /usr/local/lib/python3.7/dist-packages (from flask->miso2==2.4.4) (7.1.2)\n",
            "Requirement already satisfied: Werkzeug<2.0,>=0.15 in /usr/local/lib/python3.7/dist-packages (from flask->miso2==2.4.4) (1.0.1)\n",
            "Requirement already satisfied: MarkupSafe>=0.23 in /usr/local/lib/python3.7/dist-packages (from Jinja2<3.0,>=2.10.1->flask->miso2==2.4.4) (2.0.1)\n",
            "Requirement already satisfied: imbalanced-learn in /usr/local/lib/python3.7/dist-packages (from imblearn->miso2==2.4.4) (0.8.1)\n",
            "Requirement already satisfied: joblib>=0.11 in /usr/local/lib/python3.7/dist-packages (from imbalanced-learn->imblearn->miso2==2.4.4) (1.1.0)\n",
            "Requirement already satisfied: threadpoolctl>=2.0.0 in /usr/local/lib/python3.7/dist-packages (from scikit-learn->miso2==2.4.4) (3.0.0)\n",
            "Requirement already satisfied: python-dateutil>=2.1 in /usr/local/lib/python3.7/dist-packages (from matplotlib->miso2==2.4.4) (2.8.2)\n",
            "Requirement already satisfied: cycler>=0.10 in /usr/local/lib/python3.7/dist-packages (from matplotlib->miso2==2.4.4) (0.11.0)\n",
            "Requirement already satisfied: kiwisolver>=1.0.1 in /usr/local/lib/python3.7/dist-packages (from matplotlib->miso2==2.4.4) (1.3.2)\n",
            "Requirement already satisfied: pyparsing!=2.0.4,!=2.1.2,!=2.1.6,>=2.0.1 in /usr/local/lib/python3.7/dist-packages (from matplotlib->miso2==2.4.4) (3.0.6)\n",
            "Requirement already satisfied: et-xmlfile in /usr/local/lib/python3.7/dist-packages (from openpyxl->miso2==2.4.4) (1.1.0)\n",
            "Requirement already satisfied: jdcal in /usr/local/lib/python3.7/dist-packages (from openpyxl->miso2==2.4.4) (1.4.1)\n",
            "Requirement already satisfied: pytz>=2017.2 in /usr/local/lib/python3.7/dist-packages (from pandas->miso2==2.4.4) (2018.9)\n",
            "Requirement already satisfied: networkx>=2.0 in /usr/local/lib/python3.7/dist-packages (from scikit-image->miso2==2.4.4) (2.6.3)\n",
            "Requirement already satisfied: PyWavelets>=1.1.1 in /usr/local/lib/python3.7/dist-packages (from scikit-image->miso2==2.4.4) (1.2.0)\n",
            "Requirement already satisfied: imageio>=2.3.0 in /usr/local/lib/python3.7/dist-packages (from scikit-image->miso2==2.4.4) (2.4.1)\n",
            "Requirement already satisfied: tifffile>=2019.7.26 in /usr/local/lib/python3.7/dist-packages (from scikit-image->miso2==2.4.4) (2021.11.2)\n",
            "Collecting efficientnet==1.0.0\n",
            "  Downloading efficientnet-1.0.0-py3-none-any.whl (17 kB)\n",
            "Building wheels for collected packages: miso2\n",
            "  Building wheel for miso2 (setup.py) ... \u001b[?25l\u001b[?25hdone\n",
            "  Created wheel for miso2: filename=miso2-2.4.4-py3-none-any.whl size=67963 sha256=a4473dac80936edb8f766e38cfa4cd1ccdee0f4a0bfafa322ec6b47e6bb8deac\n",
            "  Stored in directory: /tmp/pip-ephem-wheel-cache-rj360t5o/wheels/66/c3/ff/d641fc092df743e1a094a5fe4d61c45e564633be78a130bc67\n",
            "Successfully built miso2\n",
            "Installing collected packages: h5py, image-classifiers, efficientnet, segmentation-models, imagecodecs, miso2\n",
            "  Attempting uninstall: h5py\n",
            "    Found existing installation: h5py 3.1.0\n",
            "    Uninstalling h5py-3.1.0:\n",
            "      Successfully uninstalled h5py-3.1.0\n",
            "Successfully installed efficientnet-1.0.0 h5py-2.10.0 image-classifiers-1.0.0 imagecodecs-2021.11.20 miso2-2.4.4 segmentation-models-1.0.1\n"
          ]
        }
      ],
      "source": [
        "%tensorflow_version 1.15.2\n",
        "!nvidia-smi\n",
        "!pip install -U miso2==2.4.4"
      ]
    },
    {
      "cell_type": "markdown",
      "metadata": {
        "id": "aSfqMSnoat04"
      },
      "source": [
        "## Optional: If training using folder on Google Drive\n",
        "\n",
        "Mount google drive:"
      ]
    },
    {
      "cell_type": "code",
      "execution_count": null,
      "metadata": {
        "id": "n36XODPXan0H"
      },
      "outputs": [],
      "source": [
        "from google.colab import drive\n",
        "drive.mount('/content/drive')"
      ]
    },
    {
      "cell_type": "markdown",
      "metadata": {
        "id": "iNWPJWJufgva"
      },
      "source": [
        "\n",
        "## Optional: If uploading folder of images direct to Google Colab\n",
        "\n",
        "Create datasets directory:"
      ]
    },
    {
      "cell_type": "code",
      "execution_count": null,
      "metadata": {
        "id": "scXgjwLtV17C"
      },
      "outputs": [],
      "source": [
        "import os\n",
        "os.makedirs(\"/content/datasets/\", exist_ok=True)"
      ]
    },
    {
      "cell_type": "markdown",
      "metadata": {
        "id": "MU53m21IZT7b"
      },
      "source": [
        "Upload to datasets then unzip:"
      ]
    },
    {
      "cell_type": "code",
      "execution_count": null,
      "metadata": {
        "id": "T1s5XkbVcB71"
      },
      "outputs": [],
      "source": [
        "!unzip PASTE_HERE"
      ]
    },
    {
      "cell_type": "markdown",
      "metadata": {
        "id": "2-FLidQAkdsc"
      },
      "source": [
        "# Training"
      ]
    },
    {
      "cell_type": "code",
      "execution_count": null,
      "metadata": {
        "colab": {
          "base_uri": "https://localhost:8080/"
        },
        "id": "oIyj-kV5mVix",
        "outputId": "1c03a5c6-55fd-450d-c876-2dcadb44e87b"
      },
      "outputs": [
        {
          "output_type": "stream",
          "name": "stdout",
          "text": [
            "+---------------------------------------------------------------------------+\n",
            "| MISO Particle Classification Library                                      |\n",
            "+---------------------------------------------------------------------------+\n",
            "| Stable version:                                                           |\n",
            "| pip install miso2                                                         |\n",
            "| Development version:                                                      |\n",
            "| pip install git+http://www.github.com/microfossil/particle-classification |\n",
            "+---------------------------------------------------------------------------+\n",
            "Tensorflow version: 1.15.2\n",
            "--------------------------------------------------------------------------------\n",
            "Train information:\n",
            "- name: ResNet50 Cyclic TL\n",
            "- description: trained on google colab\n",
            "- CNN type: resnet50_cyclic_tl\n",
            "- image type: rgb\n",
            "- image shape: [224, 224, 3]\n",
            "\n",
            "--------------------------------------------------------------------------------\n",
            "Parsing source https://onedrive.live.com/download?cid=DAB7BF48C5EE0C24&resid=DAB7BF48C5EE0C24%21115338&authkey=AIoWuctsAijhpbQ\n",
            "\n",
            "Downloading data from https://onedrive.live.com/download?cid=DAB7BF48C5EE0C24&resid=DAB7BF48C5EE0C24%21115338&authkey=AIoWuctsAijhpbQ\n",
            "713449472/713449360 [==============================] - 18s 0us/step\n",
            "/root/miso_datasets/fb7f5f456f/download.zip\n",
            "Classes:\n",
            "- Beella_digitata: 40 images\n",
            "- Candeina_nitida: 133 images\n",
            "- Globigerina_bulloides: 2072 images\n",
            "- Globigerina_falconensis: 507 images\n",
            "- Globigerinella_adamsi: 4 images\n",
            "- Globigerinella_calida: 124 images\n",
            "- Globigerinella_siphonifera: 925 images\n",
            "- Globigerinita_glutinata: 2107 images\n",
            "- Globigerinita_uvula: 7 images\n",
            "- Globigerinoides_conglobatus: 634 images\n",
            "- Globigerinoides_elongatus: 273 images\n",
            "- Globigerinoides_ruber: 5914 images\n",
            "- Globigerinoides_sacculifer: 3007 images\n",
            "- Globoquadrina_conglomerata: 76 images\n",
            "- Globorotalia_crassaformis: 287 images\n",
            "- Globorotalia_hirsuta: 244 images\n",
            "- Globorotalia_inflata: 1538 images\n",
            "- Globorotalia_menardii: 1090 images\n",
            "- Globorotalia_scitula: 332 images\n",
            "- Globorotalia_truncatulinoides: 1084 images\n",
            "- Globorotalia_tumida: 173 images\n",
            "- Globorotalia_ungulata: 25 images\n",
            "- Globorotaloides_hexagonus: 43 images\n",
            "- Globoturborotalita_rubescens: 238 images\n",
            "- Globoturborotalita_tenella: 224 images\n",
            "- Hastigerina_pelagica: 13 images\n",
            "- Neogloboquadrina_dutertrei: 874 images\n",
            "- Neogloboquadrina_incompta: 2034 images\n",
            "- Neogloboquadrina_pachyderma: 2275 images\n",
            "- Orbulina_universa: 320 images\n",
            "- Pulleniatina_obliquiloculata: 532 images\n",
            "- Sphaeroidinella_dehiscens: 223 images\n",
            "- Tenuitella_iota: 8 images\n",
            "- Turborotalita_humilis: 46 images\n",
            "- Turborotalita_quinqueloba: 303 images\n",
            "\n",
            "Removing classes with less than 10 images:\n",
            "- Globigerinella_adamsi: 4 images\n",
            "- Globigerinita_uvula: 7 images\n",
            "- Tenuitella_iota: 8 images\n",
            "\n",
            "--------------------------------------------------------------------------------\n",
            "Loading images\n",
            "- id: c960e7418e7e4198\n",
            "- stored in RAM\n",
            "Array size is (27710, 224, 224, 3)\n",
            "Starting queue with 2 workers\n"
          ]
        },
        {
          "output_type": "stream",
          "name": "stderr",
          "text": [
            "100%|██████████| 27710/27710 [18:15<00:00, 25.30it/s]\n"
          ]
        },
        {
          "output_type": "stream",
          "name": "stdout",
          "text": [
            "--------------------------------------------------------------------------------\n",
            "Transfer learning network training\n",
            "WARNING:tensorflow:Entity <bound method CyclicSlice4.call of <miso.layers.cyclic.CyclicSlice4 object at 0x7f5de72c7a10>> could not be transformed and will be executed as-is. Please report this to the AutoGraph team. When filing the bug, set the verbosity to 10 (on Linux, `export AUTOGRAPH_VERBOSITY=10`) and attach the full output. Cause: Bad argument number for Name: 3, expecting 4\n",
            "WARNING: Entity <bound method CyclicSlice4.call of <miso.layers.cyclic.CyclicSlice4 object at 0x7f5de72c7a10>> could not be transformed and will be executed as-is. Please report this to the AutoGraph team. When filing the bug, set the verbosity to 10 (on Linux, `export AUTOGRAPH_VERBOSITY=10`) and attach the full output. Cause: Bad argument number for Name: 3, expecting 4\n",
            "WARNING:tensorflow:From /tensorflow-1.15.2/python3.7/tensorflow_core/python/ops/resource_variable_ops.py:1630: calling BaseResourceVariable.__init__ (from tensorflow.python.ops.resource_variable_ops) with constraint is deprecated and will be removed in a future version.\n",
            "Instructions for updating:\n",
            "If using Keras pass *_constraint arguments to layers.\n",
            "Downloading data from https://github.com/keras-team/keras-applications/releases/download/resnet/resnet50_weights_tf_dim_ordering_tf_kernels_notop.h5\n",
            "94773248/94765736 [==============================] - 1s 0us/step\n",
            "WARNING:tensorflow:Entity <bound method CyclicDensePool4.call of <miso.layers.cyclic.CyclicDensePool4 object at 0x7f5d8a34afd0>> could not be transformed and will be executed as-is. Please report this to the AutoGraph team. When filing the bug, set the verbosity to 10 (on Linux, `export AUTOGRAPH_VERBOSITY=10`) and attach the full output. Cause: Bad argument number for Name: 3, expecting 4\n",
            "WARNING: Entity <bound method CyclicDensePool4.call of <miso.layers.cyclic.CyclicDensePool4 object at 0x7f5d8a34afd0>> could not be transformed and will be executed as-is. Please report this to the AutoGraph team. When filing the bug, set the verbosity to 10 (on Linux, `export AUTOGRAPH_VERBOSITY=10`) and attach the full output. Cause: Bad argument number for Name: 3, expecting 4\n",
            "- calculating vectors\n",
            "WARNING:tensorflow:Entity <function TFGenerator.tf1_compat_generator.<locals>.<lambda> at 0x7f5de6d56440> could not be transformed and will be executed as-is. Please report this to the AutoGraph team. When filing the bug, set the verbosity to 10 (on Linux, `export AUTOGRAPH_VERBOSITY=10`) and attach the full output. Cause: module 'gast' has no attribute 'Str'\n",
            "WARNING: Entity <function TFGenerator.tf1_compat_generator.<locals>.<lambda> at 0x7f5de6d56440> could not be transformed and will be executed as-is. Please report this to the AutoGraph team. When filing the bug, set the verbosity to 10 (on Linux, `export AUTOGRAPH_VERBOSITY=10`) and attach the full output. Cause: module 'gast' has no attribute 'Str'\n",
            "WARNING:tensorflow:From /usr/local/lib/python3.7/dist-packages/miso/data/tf_generator.py:171: DatasetV1.make_initializable_iterator (from tensorflow.python.data.ops.dataset_ops) is deprecated and will be removed in a future version.\n",
            "Instructions for updating:\n",
            "Use `for ... in dataset:` to iterate over a dataset. If using `tf.estimator`, return the `Dataset` object directly from your input function. As a last resort, you can use `tf.compat.v1.data.make_initializable_iterator(dataset)`.\n",
            "WARNING:tensorflow:From /usr/local/lib/python3.7/dist-packages/miso/data/tf_generator.py:174: The name tf.keras.backend.get_session is deprecated. Please use tf.compat.v1.keras.backend.get_session instead.\n",
            "\n",
            "! 749.3517587184906s elapsed, (27710/27710 vectors)\n",
            "--------------------------------------------------------------------------------\n",
            "Training\n",
            "- class weights: [ 8.84870654  2.66126512  0.17082445  0.6981228   2.85442146  0.38264677\n",
            "  0.16798684  0.55827802  1.29651378  0.1         0.1177081   4.65721397\n",
            "  1.2332692   1.45060763  0.23013541  0.32472318  1.06610922  0.32652054\n",
            "  2.04594371 10.          8.23135492  1.48717757  1.58012617 10.\n",
            "  0.40497513  0.17401586  0.15558165  1.10608832  0.66531628  1.58721194\n",
            "  7.69452743  1.16814608]\n",
            "|         |         |         |#      * |         | 0 #T62.5%/*V75.0% (9.59s)\n",
            "|         |         |         |     # * |         | 1 #T71.0%/*V76.4% (7.64s)\n",
            "|         |         |         |      # *|         | 2 #T73.9%/*V77.9% (7.66s)\n",
            "|         |         |         |       #*|         | 3 #T75.4%/*V78.8% (7.62s)\n",
            "|         |         |         |       # *         | 4 #T76.7%/*V79.8% (7.70s)\n",
            "|         |         |         |        #*         | 5 #T77.2%/*V80.0% (7.89s)\n",
            "|         |         |         |        #|*        | 6 #T77.6%/*V81.1% (7.71s)\n"
          ]
        }
      ],
      "source": [
        "\"\"\"\n",
        "Example image classification with the MISO library\n",
        "\"\"\"\n",
        "import ssl\n",
        "from miso.training.parameters import MisoParameters\n",
        "from miso.training.trainer import train_image_classification_model\n",
        "\n",
        "# For downloading dataset over https\n",
        "ssl._create_default_https_context = ssl._create_unverified_context\n",
        "\n",
        "\n",
        "tp = MisoParameters()\n",
        "\n",
        "# -----------------------------------------------------------------------------\n",
        "# Name \n",
        "# -----------------------------------------------------------------------------\n",
        "# A short name to describe the network\n",
        "# The name will be also be used to construct the output directory name\n",
        "# Leave as \"\" to auto-generate\n",
        "tp.name = r\"ResNet50 Cyclic TL\"\n",
        "\n",
        "# Description of this training run (leave as \"\" to auto-generate)\n",
        "tp.description = \"trained on google colab\"\n",
        "\n",
        "# -----------------------------------------------------------------------------\n",
        "# Dataset\n",
        "# -----------------------------------------------------------------------------\n",
        "# Source directory (local folder or download link to dataset)\n",
        "# Either a local directory, e.g. r'C:\\Users\\my_name\\Documents\\Data\\particle_training_set\\'\n",
        "# or a direct download link, e.g. r\"https://onedrive.live.com/download?cid=DAB7BF48C5EE0C24&resid=DAB7BF48C5EE0C24%21115338&authkey=AIoWuctsAijhpbQ\"\n",
        "tp.dataset.source = r\"https://onedrive.live.com/download?cid=DAB7BF48C5EE0C24&resid=DAB7BF48C5EE0C24%21115338&authkey=AIoWuctsAijhpbQ\"\n",
        "# Minimum number of images to include in a class\n",
        "tp.dataset.min_count = 10\n",
        "# Whether to map the images in class with not enough examples to an \"others\" class\n",
        "tp.dataset.map_others = False\n",
        "# Fraction of dataset used for validation\n",
        "tp.dataset.val_split = 0.2\n",
        "# Random seed used to split the dataset into train and validation\n",
        "tp.dataset.random_seed = 0\n",
        "# Set to a local directory to stored the loaded dataset on disk instead of in memory\n",
        "tp.dataset.memmap_directory = None\n",
        "\n",
        "# -----------------------------------------------------------------------------\n",
        "# CNN\n",
        "# -----------------------------------------------------------------------------\n",
        "# Choices for the CNN are:\n",
        "# Network                   Description\n",
        "# -----------------------   -----------------------------------------------------------------------\n",
        "# base_cyclic               Classic sequential layer CNN with cyclic layers and batch normalisation\n",
        "# resnet_cyclic             As above but with ResNet layers\n",
        "# resnet50_tl               Transfer learning using ResNet50 (VERY FAST)\n",
        "# resnet50_cyclic_tl        As above with added cyclic layers (VERY FAST)\n",
        "# resnet50_cyclic_gain_tl   As above with added cyclic and gain layers (VERY FAST)\n",
        "#\n",
        "# (From the classifications_models library:)\n",
        "# vgg16, vgg19 \n",
        "# resnet18, resnet34, resnet50, resnet101, resnet152\n",
        "# resnet50v2, resnet101v2, resnet152v2\n",
        "# resnext50, resnext101, densenet121\n",
        "# densenet169, densenet201\n",
        "# inceptionv3, xception, inceptionresnetv2\n",
        "# seresnet18, seresnet34, seresnet50, seresnet101, seresnet152\n",
        "# seresnext50, seresnext101, senet154\n",
        "# nasnetlarge, nasnetmobile\n",
        "# mobilenet, mobilenetv2\n",
        "tp.cnn.id = r\"resnet50_cyclic_tl\"\n",
        "\n",
        "# The input dimensions of the image [height, width, channels]\n",
        "# For height and width:\n",
        "# - height and width should be the same for particle images to ensure proper rotation augmentation\n",
        "# - 128 x 128 works well for simple particles\n",
        "# - 224 x 224 is the size ResNet has been designed for\n",
        "# - height and width will automatically be set when using transfer learning\n",
        "# - NOTE: Larger images take longer to train!\n",
        "# For number of channels:\n",
        "# - using channels = 1 will convert the images to greyscale (recommended if colour is not a feature)\n",
        "# - using channels = 3 will leave the image in RGB mode\n",
        "tp.cnn.img_shape = [224, 224, 3]\n",
        "\n",
        "# Input image colour space [greyscale/rgb]\n",
        "tp.cnn.img_type = \"rgb\"\n",
        "\n",
        "# For custom networks (base_cyclic / resnet_cyclic) or transfer learning\n",
        "# Number of filters in first block (custom networks)\n",
        "tp.cnn.filters = 4\n",
        "# Number of blocks, set to None for automatic selection (custom networkss)\n",
        "tp.cnn.blocks = None\n",
        "# Size of dense layers (custom networks / transfer learning) as a list, e.g. [512, 512] for two dense layers size 512\n",
        "# CURRENTLY FIXED AT SINGLE LAYER WITH DIMENSION 512\n",
        "tp.cnn.dense = None\n",
        "# Whether to use batch normalisation\n",
        "tp.cnn.use_batch_norm = True\n",
        "# Type of pooling [avg, max, none]\n",
        "tp.cnn.global_pooling = \"avg\"\n",
        "# Type of activation\n",
        "tp.cnn.activation = \"relu\"\n",
        "# Use A-Softmax (not implemented)\n",
        "tp.cnn.use_asoftmax = False\n",
        "\n",
        "# -----------------------------------------------------------------------------\n",
        "# Training\n",
        "# -----------------------------------------------------------------------------\n",
        "# Number of images for each training step\n",
        "# 64 is recommended if possible. Lower to 32 or 16 if getting out-of-memory errors\n",
        "# Maximum value depends on GPU memory and image size\n",
        "tp.training.batch_size = 32\n",
        "# Number of epochs after which training is stopped regardless\n",
        "# Keep at a high number like 10000 as training will normally\n",
        "# be stopped by the adaptive learning rate system\n",
        "tp.training.max_epochs = 10000\n",
        "# Number of epochs and drops for the adaptive learning rate system. (ALR)\n",
        "# ALR will monitor the last alr_epochs worth of epochs during training.\n",
        "# If the loss is not decreasing, the learning rate will be dropped by half.\n",
        "# After alr_drops times of drops, training is stopped.\n",
        "# Recommend 10 for large datasets (>20000 images), 20 for medium (>2000), 40 for small\n",
        "tp.training.alr_epochs = 10\n",
        "# Number of learning rate drops after which training is suspended\n",
        "tp.training.alr_drops = 4\n",
        "# Default is to monitor the training loss, we can monitor the validation loss instead\n",
        "tp.training.monitor_val_loss = False\n",
        "# Use class weighting?\n",
        "# Class weights are roughly the inverse of the frequency, clamped to the range [0.1, 10]\n",
        "tp.training.use_class_weights = True\n",
        "# Use class balancing via random over sampling? (Overrides class weights)\n",
        "# This will balance by trying to use the same frequency of classes in each epoch\n",
        "tp.training.use_class_undersampling = False\n",
        "# Use train time augmentation?\n",
        "# Augmente the images during training time (improves model performance significantly)\n",
        "tp.training.use_augmentation = True\n",
        "\n",
        "# -----------------------------------------------------------------------------\n",
        "# Augmentation\n",
        "# -----------------------------------------------------------------------------\n",
        "# Setting depends on the size of list passed:\n",
        "# - length 2, e.g. [low, high] = random value between low and high\n",
        "# - length 3 or more, e.g. [a, b, c] = choose a random value from this list\n",
        "# Rotation\n",
        "tp.augmentation.rotation = [0, 360]\n",
        "# Gain: I' = I * gain\n",
        "tp.augmentation.gain = [0.8, 1.0, 1.2]\n",
        "# Gamma: I' = I ^ gamma\n",
        "tp.augmentation.gamma = [0.5, 1.0, 2.0]\n",
        "# Bias: I' = I + bias\n",
        "tp.augmentation.bias = None\n",
        "# Zoom: I'[x,y] = I[x/zoom, y/zoom]\n",
        "tp.augmentation.zoom = [0.9, 1.0, 1.1]\n",
        "# Gaussian noise std deviation\n",
        "tp.augmentation.gaussian_noise = None\n",
        "# The parameters for the following are not random\n",
        "# Random crop, e.g. [224, 224, 3]\n",
        "# If random crop is used, you MUST set the original image size that the crop is taken from\n",
        "tp.augmentation.random_crop = None\n",
        "tp.augmentation.orig_img_shape = [224, 224, 3]\n",
        "\n",
        "# -----------------------------------------------------------------------------\n",
        "# Output\n",
        "# -----------------------------------------------------------------------------\n",
        "# Directory to save output (a sub-directory will be automatically created for each training run)\n",
        "# Can be an absolute path, e.g. r'C:\\Users\\my_name\\Documents\\TrainedModels\\'\n",
        "# Or a relative path to the directory from which this script was run, e.g. r'output'\n",
        "tp.output.save_dir = r\"output\"\n",
        "\n",
        "# Save model?\n",
        "tp.output.save_model = True\n",
        "# Save the mislabelled image analysis?\n",
        "# This can take some time...\n",
        "tp.output.save_mislabeled = True\n",
        "\n",
        "\n",
        "# model: Trained Keras model for image classification in inference mode\n",
        "# vector_model: Sub-graph of previous model for generating feature vectors\n",
        "# data_source: The training data\n",
        "# results: Results of training (accuracy, precision, recall, f1score, etc)\n",
        "model, vector_model, data_source, results = train_image_classification_model(tp)\n"
      ]
    },
    {
      "cell_type": "markdown",
      "metadata": {
        "id": "FPN-zyRO49nC"
      },
      "source": [
        "Zip for download if desired:"
      ]
    },
    {
      "cell_type": "code",
      "execution_count": null,
      "metadata": {
        "id": "pABMTU2345U6"
      },
      "outputs": [],
      "source": [
        "!zip -r /content/output.zip PASTE_PATH_HERE"
      ]
    }
  ],
  "metadata": {
    "accelerator": "GPU",
    "colab": {
      "collapsed_sections": [],
      "name": "image_classification_with_miso_quick.ipynb",
      "provenance": [],
      "toc_visible": true
    },
    "kernelspec": {
      "display_name": "Python 3",
      "language": "python",
      "name": "python3"
    },
    "language_info": {
      "codemirror_mode": {
        "name": "ipython",
        "version": 3
      },
      "file_extension": ".py",
      "mimetype": "text/x-python",
      "name": "python",
      "nbconvert_exporter": "python",
      "pygments_lexer": "ipython3",
      "version": "3.7.5"
    },
    "pycharm": {
      "stem_cell": {
        "cell_type": "raw",
        "source": [],
        "metadata": {
          "collapsed": false
        }
      }
    }
  },
  "nbformat": 4,
  "nbformat_minor": 0
}
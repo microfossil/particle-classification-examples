{
 "cells": [
  {
   "cell_type": "markdown",
   "metadata": {
    "colab_type": "text",
    "id": "1Ycmylt-ISHE"
   },
   "source": [
    "# Welcome\n",
    "\n",
    "This notebook is a stream lined version of the original for those who are familiar with the settings\n",
    "\n",
    "## Install Library"
   ]
  },
  {
   "cell_type": "code",
   "execution_count": null,
   "metadata": {
    "colab": {},
    "colab_type": "code",
    "id": "RC4iePqExWwO"
   },
   "outputs": [],
   "source": [
    "%tensorflow_version 1.x\n",
    "!nvidia-smi\n",
    "!pip install -U git+https://www.github.com/microfossil/particle-classification.git"
   ]
  },
  {
   "cell_type": "markdown",
   "metadata": {
    "colab_type": "text",
    "id": "aSfqMSnoat04"
   },
   "source": [
    "## Optional: If training using folder on Google Drive\n",
    "\n",
    "Mount google drive:"
   ]
  },
  {
   "cell_type": "code",
   "execution_count": null,
   "metadata": {
    "colab": {
     "base_uri": "https://localhost:8080/",
     "height": 125
    },
    "colab_type": "code",
    "executionInfo": {
     "elapsed": 18868,
     "status": "ok",
     "timestamp": 1565005028074,
     "user": {
      "displayName": "Ross Marchant",
      "photoUrl": "",
      "userId": "18161906969163655277"
     },
     "user_tz": -600
    },
    "id": "n36XODPXan0H",
    "outputId": "f1a3c84f-e4cb-4c4f-ce65-d9aeb036c16c"
   },
   "outputs": [],
   "source": [
    "from google.colab import drive\n",
    "drive.mount('/content/drive')"
   ]
  },
  {
   "cell_type": "markdown",
   "metadata": {
    "colab_type": "text",
    "id": "iNWPJWJufgva"
   },
   "source": [
    "\n",
    "## Optional: If uploading folder of images direct to Google Colab\n",
    "\n",
    "Create datasets directory:"
   ]
  },
  {
   "cell_type": "code",
   "execution_count": null,
   "metadata": {
    "colab": {},
    "colab_type": "code",
    "id": "scXgjwLtV17C"
   },
   "outputs": [],
   "source": [
    "import os\n",
    "os.makedirs(\"/content/datasets/\", exist_ok=True)"
   ]
  },
  {
   "cell_type": "markdown",
   "metadata": {
    "colab_type": "text",
    "id": "MU53m21IZT7b"
   },
   "source": [
    "Upload to datasets then unzip:"
   ]
  },
  {
   "cell_type": "code",
   "execution_count": null,
   "metadata": {
    "colab": {},
    "colab_type": "code",
    "id": "T1s5XkbVcB71"
   },
   "outputs": [],
   "source": [
    "!unzip PASTE_HERE"
   ]
  },
  {
   "cell_type": "markdown",
   "metadata": {
    "colab_type": "text",
    "id": "2-FLidQAkdsc"
   },
   "source": [
    "# Training"
   ]
  },
  {
   "cell_type": "code",
   "execution_count": null,
   "metadata": {
    "colab": {
     "base_uri": "https://localhost:8080/",
     "height": 1000
    },
    "colab_type": "code",
    "executionInfo": {
     "elapsed": 107929,
     "status": "ok",
     "timestamp": 1566175958190,
     "user": {
      "displayName": "Ross Marchant",
      "photoUrl": "",
      "userId": "18161906969163655277"
     },
     "user_tz": -600
    },
    "id": "oIyj-kV5mVix",
    "outputId": "77971e8e-eda5-4668-f1ec-7f926ff87caa"
   },
   "outputs": [],
   "source": [
    "\"\"\"\n",
    "Example image classification with the MISO library\n",
    "\"\"\"\n",
    "import ssl\n",
    "from miso.training.model_params import default_params\n",
    "from miso.training.model_trainer import train_image_classification_model\n",
    "\n",
    "ssl._create_default_https_context = ssl._create_unverified_context\n",
    "params = default_params()\n",
    "\n",
    "# OVERVIEW -------------------------------------------------------------------------------------------------------------\n",
    "# A short name to describe the network\n",
    "# The name will be also be used to construct the output directory name\n",
    "\n",
    "params['name'] = 'image_classification_example'\n",
    "\n",
    "# Longer description of the network\n",
    "# The longer description will be saved in the xml description of the network\n",
    "# Set to None to be auto-generated\n",
    "\n",
    "params['description'] = None\n",
    "\n",
    "# CNN TOPOLOGY ---------------------------------------------------------------------------------------------------------\n",
    "# The type of network\n",
    "# Choices are:\n",
    "# Network                   Description\n",
    "# -----------------------   -----------------------------------------------------------------------\n",
    "# base_cyclic               Classic sequential layer CNN with cyclic layers and batch normalisation\n",
    "# resnet_cyclic             As above but with ResNet layers\n",
    "# resnet50_tl               Transfer learning using ResNet50 (VERY FAST)\n",
    "# resnet50_cyclic_tl        As above with added cyclic layers (VERY FAST)\n",
    "# resnet50_cyclic_gain_tl   As above with added cyclic and gain layers (VERY FAST)\n",
    "#\n",
    "# (From the classifications_models library:)\n",
    "# vgg16, vgg19 \n",
    "# resnet18, resnet34, resnet50, resnet101, resnet152\n",
    "# resnet50v2, resnet101v2, resnet152v2\n",
    "# resnext50, resnext101, densenet121\n",
    "# densenet169, densenet201\n",
    "# inceptionv3, xception, inceptionresnetv2\n",
    "# seresnet18, seresnet34, seresnet50, seresnet101, seresnet152\n",
    "# seresnext50, seresnext101, senet154\n",
    "# nasnetlarge, nasnetmobile\n",
    "# mobilenet, mobilenetv2\n",
    "\n",
    "params['type'] = 'resnet50_cyclic_tl'\n",
    "\n",
    "# Base / ResNet Cyclic configurable parameters\n",
    "# The base_cyclic network is a custom design and can be configured further\n",
    "# - filters: 4, 8, 16, 32, etc. More filters may improve accuracy.\n",
    "params['filters'] = 4\n",
    "# - use batch normalisation: True / False. Batch normalisation typically improves accuracy.\n",
    "params['use_batch_norm'] = True\n",
    "# - global pooling: None, 'avg', 'max'\n",
    "params['global_pooling'] = None\n",
    "# - activation: 'relu', 'elu', 'selu'\n",
    "params['activation'] = 'relu'\n",
    "\n",
    "# The input dimensions of the image\n",
    "# For height and width:\n",
    "# - height and width should be the same for particle images to ensure proper rotation augmentation\n",
    "# - 128 x 128 works well for simple particles\n",
    "# - 224 x 224 is the size ResNet has been designed for\n",
    "# - height and width will automatically be set when using transfer learning\n",
    "# - NOTE: Larger images take longer to train!\n",
    "# For number of channels:\n",
    "# - using channels = 1 will convert the images to greyscale (recommended if colour is not a feature)\n",
    "# - using channels = 3 will leave the image in RGB mode\n",
    "\n",
    "params['img_height'] = 224\n",
    "params['img_width'] = 224\n",
    "params['img_channels'] = 3\n",
    "\n",
    "# TRAINING -------------------------------------------------------------------------------------------------------------\n",
    "# Number of images presented per training iteration\n",
    "# 64 is recommended. Lower to 32 or 16 if getting out-of-memory errors\n",
    "\n",
    "params['batch_size'] = 64\n",
    "\n",
    "# Maximum epochs after which training is definitely stopped\n",
    "# Keep at a high number like 10000 as training will normally\n",
    "# be stopped by the adaptive learning rate system\n",
    "\n",
    "params['max_epochs'] = 10000\n",
    "\n",
    "# Number of epochs and drops for the adaptive learning rate system. (ALR)\n",
    "# ALR will monitor the last alr_epochs worth of epochs during training.\n",
    "# If the loss is not decreasing, the learning rate will be dropped by half.\n",
    "# After alr_drops times of drops, training is stopped.\n",
    "\n",
    "params['alr_epochs'] = 40\n",
    "params['alr_drops'] = 4\n",
    "\n",
    "\n",
    "# AUGMENTATION ---------------------------------------------------------------------------------------------------------\n",
    "# Use augmentation (transfer learning automatically sets this to false)\n",
    "params['use_augmentation'] = True\n",
    "params['aug_rotation'] = True\n",
    "params['aug_gain'] = [0.8, 1, 1.2]\n",
    "params['aug_gamma'] = [0.5, 1, 2]\n",
    "params['aug_bias'] = None\n",
    "params['aug_zoom'] = [0.9, 1, 1.1]\n",
    "params['aug_gaussian_noise'] = None\n",
    "\n",
    "# INPUT ----------------------------------------------------------------------------------------------------------------\n",
    "# Input data source\n",
    "# Either a local directory, e.g. r'C:\\Users\\my_name\\Documents\\Data\\particle_training_set\\'\n",
    "# or a direct download link, e.g. r'https://1drv.ws/u/s!AiQM7sVIv7fah4MN2gWCXDWX_DT0OA?e=Eu3lZh'\n",
    "\n",
    "params['input_source'] = r'https://1drv.ws/u/s!AiQM7sVIv7fah4MN2gWCXDWX_DT0OA?e=Eu3lZh'\n",
    "\n",
    "# Minimum number of images per class for that class to be included\n",
    "# Recommended that this value is at least 20\n",
    "\n",
    "params['data_min_count'] = 40\n",
    "\n",
    "# Whether to put images from classes with less than the min count in an other class\n",
    "\n",
    "params['data_map_others'] = False\n",
    "\n",
    "# Fraction of images used for testing to calculate accuracy etc\n",
    "\n",
    "params['data_split'] = 0.20\n",
    "\n",
    "# Split offset (for N-fold validation)\n",
    "\n",
    "params['data_split_offset'] = 0\n",
    "\n",
    "# Randomisation seed for splitting\n",
    "\n",
    "params['seed'] = None\n",
    "\n",
    "# Weight the classes by count\n",
    "# If the number of images in each class varies significantly, training may try to improve accuracy by maximising the\n",
    "# over-represented classes at the expense of the under-represented. Using class weights will weight the\n",
    "# under-represented classes more highly, usually improving their accuracy.\n",
    "\n",
    "params['use_class_weights'] = True\n",
    "\n",
    "# OUTPUT ---------------------------------------------------------------------------------------------------------------\n",
    "# Root directory to save trained model, graphs etc.(A sub-directory will be automatically created for each training run)\n",
    "# Can be an absolute path, e.g. r'C:\\Users\\my_name\\Documents\\TrainedModels\\'\n",
    "# Or a relative path to the directory from which this script was run, e.g. r'output'\n",
    "\n",
    "params['output_dir'] = r'output'\n",
    "\n",
    "# What format to save the trained model in\n",
    "# frozen: Frozen format used for inference (recommended)\n",
    "# saved_model: Tensorflow Saved Model format (graph and weights in separate files)\n",
    "# None: Don't save a model\n",
    "\n",
    "params['save_model'] = 'frozen'\n",
    "\n",
    "# Whether to estimate mislabeled images or not\n",
    "\n",
    "params['save_mislabeled'] = True\n",
    "\n",
    "# RUN ------------------------------------------------------------------------------------------------------------------\n",
    "# model: Trained Keras model for image classification in inference mode\n",
    "# vector_model: Sub-graph of previous model for generating feature vectors\n",
    "# data_source: The training data\n",
    "# results: Results of training (accuracy, precision, recall, f1score, etc)\n",
    "\n",
    "model, vector_model, data_source, results = train_image_classification_model(params)\n"
   ]
  },
  {
   "cell_type": "markdown",
   "metadata": {
    "colab_type": "text",
    "id": "FPN-zyRO49nC"
   },
   "source": [
    "Zip for download if desired:"
   ]
  },
  {
   "cell_type": "code",
   "execution_count": null,
   "metadata": {
    "colab": {},
    "colab_type": "code",
    "id": "pABMTU2345U6"
   },
   "outputs": [],
   "source": [
    "!zip -r /content/output.zip PASTE_PATH_HERE"
   ]
  }
 ],
 "metadata": {
  "accelerator": "GPU",
  "colab": {
   "collapsed_sections": [],
   "name": "image_classification_with_miso_quick.ipynb",
   "provenance": [
    {
     "file_id": "1EsebATWbxkhLKhPom-tPmbTed6otg7QQ",
     "timestamp": 1564120648492
    },
    {
     "file_id": "https://github.com/microfossil/particle-classification-examples/blob/master/image_classification_with_miso_tutorial.ipynb",
     "timestamp": 1563941676161
    }
   ],
   "toc_visible": true,
   "version": "0.3.2"
  },
  "kernelspec": {
   "display_name": "Python 3",
   "language": "python",
   "name": "python3"
  },
  "language_info": {
   "codemirror_mode": {
    "name": "ipython",
    "version": 3
   },
   "file_extension": ".py",
   "mimetype": "text/x-python",
   "name": "python",
   "nbconvert_exporter": "python",
   "pygments_lexer": "ipython3",
   "version": "3.7.5"
  },
  "pycharm": {
   "stem_cell": {
    "cell_type": "raw",
    "source": [],
    "metadata": {
     "collapsed": false
    }
   }
  }
 },
 "nbformat": 4,
 "nbformat_minor": 1
}